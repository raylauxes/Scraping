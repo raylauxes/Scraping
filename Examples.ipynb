{
 "cells": [
  {
   "cell_type": "markdown",
   "metadata": {},
   "source": [
    "## Import module"
   ]
  },
  {
   "cell_type": "code",
   "execution_count": 1,
   "metadata": {},
   "outputs": [],
   "source": [
    "from googleCrawler import *"
   ]
  },
  {
   "cell_type": "markdown",
   "metadata": {},
   "source": [
    "## Decide keywords for search"
   ]
  },
  {
   "cell_type": "code",
   "execution_count": 2,
   "metadata": {},
   "outputs": [],
   "source": [
    "vocab_list = [\"海外\", \"進出\", \"AIサービス\"]"
   ]
  },
  {
   "cell_type": "markdown",
   "metadata": {},
   "source": [
    "## Instantiate"
   ]
  },
  {
   "cell_type": "code",
   "execution_count": 3,
   "metadata": {},
   "outputs": [],
   "source": [
    "crawler = gCrawler(vocab_list)"
   ]
  },
  {
   "cell_type": "markdown",
   "metadata": {},
   "source": [
    "## Output all search results"
   ]
  },
  {
   "cell_type": "code",
   "execution_count": 4,
   "metadata": {},
   "outputs": [
    {
     "data": {
      "text/html": [
       "<div>\n",
       "<style scoped>\n",
       "    .dataframe tbody tr th:only-of-type {\n",
       "        vertical-align: middle;\n",
       "    }\n",
       "\n",
       "    .dataframe tbody tr th {\n",
       "        vertical-align: top;\n",
       "    }\n",
       "\n",
       "    .dataframe thead th {\n",
       "        text-align: right;\n",
       "    }\n",
       "</style>\n",
       "<table border=\"1\" class=\"dataframe\">\n",
       "  <thead>\n",
       "    <tr style=\"text-align: right;\">\n",
       "      <th></th>\n",
       "      <th>0</th>\n",
       "    </tr>\n",
       "  </thead>\n",
       "  <tbody>\n",
       "    <tr>\n",
       "      <th>0</th>\n",
       "      <td>Connection to global 海外展開支援ソリューション. 中国、ベトナム、カン...</td>\n",
       "    </tr>\n",
       "    <tr>\n",
       "      <th>1</th>\n",
       "      <td>製造業向けAIサービスという新たなビジネス領域の確立を実現. 株式会社スカイディスク（以下、...</td>\n",
       "    </tr>\n",
       "    <tr>\n",
       "      <th>2</th>\n",
       "      <td>2017/10/03 — 今回は、一番目の項目「クラウドでデータ管理し、AIサービスを活用す...</td>\n",
       "    </tr>\n",
       "    <tr>\n",
       "      <th>3</th>\n",
       "      <td>2020/09/15 — 2020年8月25日に開催した無料ウェビナー『モバイル市場で「AI...</td>\n",
       "    </tr>\n",
       "    <tr>\n",
       "      <th>4</th>\n",
       "      <td>2019/01/30 — 海外のIT人材、採用支援を行っているGIBJapanとのコラボ企画...</td>\n",
       "    </tr>\n",
       "    <tr>\n",
       "      <th>5</th>\n",
       "      <td>2016/09/29 — 【人工知能(AI)×リクルート】海外からの採用志望者を人工知能サー...</td>\n",
       "    </tr>\n",
       "    <tr>\n",
       "      <th>6</th>\n",
       "      <td>2020/08/14 — 【AIウェビナー①】8月25日（火）17時～ モバイル事業で「AI...</td>\n",
       "    </tr>\n",
       "    <tr>\n",
       "      <th>7</th>\n",
       "      <td>2018/11/06 — これまでは日本の技術拠点から世界各国に合わせたAIサービスを提供し...</td>\n",
       "    </tr>\n",
       "    <tr>\n",
       "      <th>8</th>\n",
       "      <td>2019/05/17 — 例えば、イタリア北部・べネト州の有力インキュベーターであるH-Fa...</td>\n",
       "    </tr>\n",
       "    <tr>\n",
       "      <th>9</th>\n",
       "      <td>2018/04/19 — DIGIMA NEWS 2025年頃に「FAロボット関連のIoT・...</td>\n",
       "    </tr>\n",
       "  </tbody>\n",
       "</table>\n",
       "</div>"
      ],
      "text/plain": [
       "                                                   0\n",
       "0  Connection to global 海外展開支援ソリューション. 中国、ベトナム、カン...\n",
       "1  製造業向けAIサービスという新たなビジネス領域の確立を実現. 株式会社スカイディスク（以下、...\n",
       "2  2017/10/03 — 今回は、一番目の項目「クラウドでデータ管理し、AIサービスを活用す...\n",
       "3  2020/09/15 — 2020年8月25日に開催した無料ウェビナー『モバイル市場で「AI...\n",
       "4  2019/01/30 — 海外のIT人材、採用支援を行っているGIBJapanとのコラボ企画...\n",
       "5  2016/09/29 — 【人工知能(AI)×リクルート】海外からの採用志望者を人工知能サー...\n",
       "6  2020/08/14 — 【AIウェビナー①】8月25日（火）17時～ モバイル事業で「AI...\n",
       "7  2018/11/06 — これまでは日本の技術拠点から世界各国に合わせたAIサービスを提供し...\n",
       "8  2019/05/17 — 例えば、イタリア北部・べネト州の有力インキュベーターであるH-Fa...\n",
       "9  2018/04/19 — DIGIMA NEWS 2025年頃に「FAロボット関連のIoT・..."
      ]
     },
     "execution_count": 4,
     "metadata": {},
     "output_type": "execute_result"
    }
   ],
   "source": [
    "crawler.output()"
   ]
  },
  {
   "cell_type": "markdown",
   "metadata": {},
   "source": [
    "## Output only results that contain any of the keywords"
   ]
  },
  {
   "cell_type": "code",
   "execution_count": 5,
   "metadata": {},
   "outputs": [
    {
     "data": {
      "text/html": [
       "<div>\n",
       "<style scoped>\n",
       "    .dataframe tbody tr th:only-of-type {\n",
       "        vertical-align: middle;\n",
       "    }\n",
       "\n",
       "    .dataframe tbody tr th {\n",
       "        vertical-align: top;\n",
       "    }\n",
       "\n",
       "    .dataframe thead th {\n",
       "        text-align: right;\n",
       "    }\n",
       "</style>\n",
       "<table border=\"1\" class=\"dataframe\">\n",
       "  <thead>\n",
       "    <tr style=\"text-align: right;\">\n",
       "      <th></th>\n",
       "      <th>0</th>\n",
       "    </tr>\n",
       "  </thead>\n",
       "  <tbody>\n",
       "    <tr>\n",
       "      <th>0</th>\n",
       "      <td>Connection to global 海外展開支援ソリューション. 中国、ベトナム、カン...</td>\n",
       "    </tr>\n",
       "    <tr>\n",
       "      <th>1</th>\n",
       "      <td>製造業向けAIサービスという新たなビジネス領域の確立を実現. 株式会社スカイディスク（以下、...</td>\n",
       "    </tr>\n",
       "    <tr>\n",
       "      <th>2</th>\n",
       "      <td>2020/09/15 — 2020年8月25日に開催した無料ウェビナー『モバイル市場で「AI...</td>\n",
       "    </tr>\n",
       "    <tr>\n",
       "      <th>3</th>\n",
       "      <td>... IoTワンストップソリューション提供; AIサービスの提供; 自社パッケージの提供...</td>\n",
       "    </tr>\n",
       "    <tr>\n",
       "      <th>4</th>\n",
       "      <td>2018/04/19 — DIGIMA NEWS 2025年頃に「FAロボット関連のIoT・...</td>\n",
       "    </tr>\n",
       "  </tbody>\n",
       "</table>\n",
       "</div>"
      ],
      "text/plain": [
       "                                                   0\n",
       "0  Connection to global 海外展開支援ソリューション. 中国、ベトナム、カン...\n",
       "1  製造業向けAIサービスという新たなビジネス領域の確立を実現. 株式会社スカイディスク（以下、...\n",
       "2  2020/09/15 — 2020年8月25日に開催した無料ウェビナー『モバイル市場で「AI...\n",
       "3   ... IoTワンストップソリューション提供; AIサービスの提供; 自社パッケージの提供...\n",
       "4  2018/04/19 — DIGIMA NEWS 2025年頃に「FAロボット関連のIoT・..."
      ]
     },
     "execution_count": 5,
     "metadata": {},
     "output_type": "execute_result"
    }
   ],
   "source": [
    "crawler.output(relevant_only=True)"
   ]
  },
  {
   "cell_type": "code",
   "execution_count": null,
   "metadata": {},
   "outputs": [],
   "source": []
  }
 ],
 "metadata": {
  "kernelspec": {
   "display_name": "Python 3",
   "language": "python",
   "name": "python3"
  },
  "language_info": {
   "codemirror_mode": {
    "name": "ipython",
    "version": 3
   },
   "file_extension": ".py",
   "mimetype": "text/x-python",
   "name": "python",
   "nbconvert_exporter": "python",
   "pygments_lexer": "ipython3",
   "version": "3.6.8"
  }
 },
 "nbformat": 4,
 "nbformat_minor": 4
}
